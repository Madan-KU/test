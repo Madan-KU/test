{
 "cells": [
  {
   "attachments": {},
   "cell_type": "markdown",
   "metadata": {},
   "source": [
    "# Santander Customer Transaction Prediction"
   ]
  },
  {
   "cell_type": "code",
   "execution_count": 1,
   "metadata": {},
   "outputs": [],
   "source": [
    "import pandas as pd, numpy as np\n",
    "import matplotlib.pyplot as plt, seaborn as sns\n",
    "from sklearn.model_selection import train_test_split\n",
    "%matplotlib inline"
   ]
  },
  {
   "cell_type": "code",
   "execution_count": 2,
   "metadata": {},
   "outputs": [],
   "source": [
    "train_path =r\"E:\\Santander\\train.csv\"\n",
    "test_path =r\"E:\\Santander\\test.csv\""
   ]
  },
  {
   "cell_type": "code",
   "execution_count": 3,
   "metadata": {},
   "outputs": [
    {
     "data": {
      "text/plain": [
       "((200000, 202), (200000, 201))"
      ]
     },
     "execution_count": 3,
     "metadata": {},
     "output_type": "execute_result"
    }
   ],
   "source": [
    "train = pd.read_csv(train_path)\n",
    "train = pd.DataFrame(train)\n",
    "\n",
    "test = pd.read_csv(test_path)\n",
    "test = pd.DataFrame(test)\n",
    "\n",
    "train.shape,test.shape"
   ]
  },
  {
   "cell_type": "code",
   "execution_count": 4,
   "metadata": {},
   "outputs": [
    {
     "data": {
      "text/plain": [
       "ID_code    0\n",
       "target     0\n",
       "var_0      0\n",
       "var_1      0\n",
       "var_2      0\n",
       "          ..\n",
       "var_195    0\n",
       "var_196    0\n",
       "var_197    0\n",
       "var_198    0\n",
       "var_199    0\n",
       "Length: 202, dtype: int64"
      ]
     },
     "execution_count": 4,
     "metadata": {},
     "output_type": "execute_result"
    }
   ],
   "source": [
    "train.isnull().sum()"
   ]
  },
  {
   "cell_type": "code",
   "execution_count": 5,
   "metadata": {},
   "outputs": [
    {
     "name": "stdout",
     "output_type": "stream",
     "text": [
      "Total Number of Non Blank Rows: 200000\n"
     ]
    },
    {
     "data": {
      "text/plain": [
       "ID_code    0\n",
       "target     0\n",
       "var_0      0\n",
       "var_1      0\n",
       "var_2      0\n",
       "          ..\n",
       "var_195    0\n",
       "var_196    0\n",
       "var_197    0\n",
       "var_198    0\n",
       "var_199    0\n",
       "Length: 202, dtype: int64"
      ]
     },
     "execution_count": 5,
     "metadata": {},
     "output_type": "execute_result"
    }
   ],
   "source": [
    "train.dropna(inplace=True)\n",
    "print(\"Total Number of Non Blank Rows:\",train.shape[0])\n",
    "\n",
    "train.isnull().sum()"
   ]
  },
  {
   "cell_type": "code",
   "execution_count": 6,
   "metadata": {},
   "outputs": [
    {
     "data": {
      "text/plain": [
       "0    179902\n",
       "1     20098\n",
       "Name: target, dtype: int64"
      ]
     },
     "execution_count": 6,
     "metadata": {},
     "output_type": "execute_result"
    }
   ],
   "source": [
    "#Target\n",
    "train['target'].value_counts()"
   ]
  },
  {
   "cell_type": "code",
   "execution_count": 7,
   "metadata": {},
   "outputs": [],
   "source": [
    "X=train.drop(columns=['target','ID_code'])\n",
    "y=train['target']"
   ]
  },
  {
   "cell_type": "code",
   "execution_count": 8,
   "metadata": {},
   "outputs": [],
   "source": [
    "X_train,X_test,y_train,y_test =train_test_split(X,y,test_size=0.3,random_state=100)"
   ]
  },
  {
   "cell_type": "code",
   "execution_count": 9,
   "metadata": {},
   "outputs": [],
   "source": [
    "from sklearn.ensemble import RandomForestClassifier\n",
    "rfc=RandomForestClassifier(random_state=0).fit(X_train,y_train)"
   ]
  },
  {
   "cell_type": "code",
   "execution_count": 10,
   "metadata": {},
   "outputs": [],
   "source": [
    "y_pred_rfc=rfc.predict(X_test)"
   ]
  },
  {
   "cell_type": "code",
   "execution_count": 12,
   "metadata": {},
   "outputs": [
    {
     "name": "stdout",
     "output_type": "stream",
     "text": [
      "Accuracy: 0.8994833333333333\n"
     ]
    }
   ],
   "source": [
    "from sklearn.metrics import accuracy_score\n",
    "print(\"Accuracy:\", accuracy_score(y_test, y_pred_rfc))"
   ]
  },
  {
   "cell_type": "code",
   "execution_count": 13,
   "metadata": {},
   "outputs": [],
   "source": [
    "from imblearn.over_sampling import SMOTE\n",
    "# Resampling the minority class. The strategy can be changed as required.\n",
    "sm = SMOTE(sampling_strategy='minority', random_state=100)\n",
    "\n",
    "# Fit the model to generate the data.\n",
    "_X, _Y = sm.fit_resample(X_train, y_train)\n",
    "oversampled = pd.concat([pd.DataFrame(_Y), pd.DataFrame(_X)], axis=1)\n"
   ]
  },
  {
   "cell_type": "code",
   "execution_count": 14,
   "metadata": {},
   "outputs": [
    {
     "data": {
      "text/plain": [
       "1    125933\n",
       "0    125933\n",
       "Name: target, dtype: int64"
      ]
     },
     "execution_count": 14,
     "metadata": {},
     "output_type": "execute_result"
    }
   ],
   "source": [
    "oversampled['target'].value_counts()"
   ]
  },
  {
   "attachments": {},
   "cell_type": "markdown",
   "metadata": {},
   "source": [
    "<!-- from sklearn.model_selection import train_test_split\n",
    "x_train,x_test,y_train,y_test =train_test_split(x,y,test_size=0.3)\n",
    "x_train.shape, y_train.shape,x_test.shape,y_test.shape -->"
   ]
  },
  {
   "attachments": {},
   "cell_type": "markdown",
   "metadata": {},
   "source": [
    "## MLP Model"
   ]
  },
  {
   "cell_type": "code",
   "execution_count": 15,
   "metadata": {},
   "outputs": [
    {
     "name": "stdout",
     "output_type": "stream",
     "text": [
      "Model: \"sequential\"\n",
      "_________________________________________________________________\n",
      " Layer (type)                Output Shape              Param #   \n",
      "=================================================================\n",
      " Input (Dense)               (None, 128)               25728     \n",
      "                                                                 \n",
      " Hidden_Layer (Dense)        (None, 64)                8256      \n",
      "                                                                 \n",
      " Output (Dense)              (None, 1)                 65        \n",
      "                                                                 \n",
      "=================================================================\n",
      "Total params: 34,049\n",
      "Trainable params: 34,049\n",
      "Non-trainable params: 0\n",
      "_________________________________________________________________\n"
     ]
    }
   ],
   "source": [
    "from keras.models import Sequential\n",
    "from keras.layers import Dense\n",
    "# Create the MLP model\n",
    "model = Sequential() # create empty model and then add layers\n",
    "model.add(Dense(128, input_dim=200, activation='relu',name ='Input')) #Dense layers with the ReLU (relu) activation function nonlinearity\n",
    "model.add(Dense(64, activation='relu',name ='Hidden_Layer'))\n",
    "model.add(Dense(1,activation='sigmoid',name ='Output')) #Prediction layer with sigmoid activation function\n",
    "\n",
    "# Compile the model\n",
    "model.compile( loss='binary_crossentropy', metrics=['accuracy'], optimizer='adam') \n",
    "model.summary()"
   ]
  },
  {
   "cell_type": "code",
   "execution_count": 16,
   "metadata": {},
   "outputs": [
    {
     "name": "stdout",
     "output_type": "stream",
     "text": [
      "Epoch 1/100\n",
      "4375/4375 [==============================] - 9s 2ms/step - loss: 0.2775 - accuracy: 0.9028\n",
      "Epoch 2/100\n",
      "4375/4375 [==============================] - 9s 2ms/step - loss: 0.2551 - accuracy: 0.9076\n",
      "Epoch 3/100\n",
      "4375/4375 [==============================] - 8s 2ms/step - loss: 0.2501 - accuracy: 0.9095\n",
      "Epoch 4/100\n",
      "4375/4375 [==============================] - 9s 2ms/step - loss: 0.2479 - accuracy: 0.9093\n",
      "Epoch 5/100\n",
      "4375/4375 [==============================] - 8s 2ms/step - loss: 0.2467 - accuracy: 0.9101\n",
      "Epoch 6/100\n",
      "4375/4375 [==============================] - 8s 2ms/step - loss: 0.2452 - accuracy: 0.9104\n",
      "Epoch 7/100\n",
      "4375/4375 [==============================] - 8s 2ms/step - loss: 0.2441 - accuracy: 0.9106\n",
      "Epoch 8/100\n",
      "4375/4375 [==============================] - 8s 2ms/step - loss: 0.2427 - accuracy: 0.9111\n",
      "Epoch 9/100\n",
      "4375/4375 [==============================] - 8s 2ms/step - loss: 0.2420 - accuracy: 0.9117\n",
      "Epoch 10/100\n",
      "4375/4375 [==============================] - 9s 2ms/step - loss: 0.2411 - accuracy: 0.9120\n",
      "Epoch 11/100\n",
      "4375/4375 [==============================] - 8s 2ms/step - loss: 0.2403 - accuracy: 0.9120\n",
      "Epoch 12/100\n",
      "4375/4375 [==============================] - 9s 2ms/step - loss: 0.2399 - accuracy: 0.9121\n",
      "Epoch 13/100\n",
      "4375/4375 [==============================] - 8s 2ms/step - loss: 0.2392 - accuracy: 0.9117\n",
      "Epoch 14/100\n",
      "4375/4375 [==============================] - 8s 2ms/step - loss: 0.2390 - accuracy: 0.9117\n",
      "Epoch 15/100\n",
      "4375/4375 [==============================] - 9s 2ms/step - loss: 0.2381 - accuracy: 0.9125\n",
      "Epoch 16/100\n",
      "4375/4375 [==============================] - 9s 2ms/step - loss: 0.2375 - accuracy: 0.9129\n",
      "Epoch 17/100\n",
      "4375/4375 [==============================] - 9s 2ms/step - loss: 0.2376 - accuracy: 0.9124\n",
      "Epoch 18/100\n",
      "4375/4375 [==============================] - 8s 2ms/step - loss: 0.2373 - accuracy: 0.9128\n",
      "Epoch 19/100\n",
      "4375/4375 [==============================] - 10s 2ms/step - loss: 0.2363 - accuracy: 0.9129\n",
      "Epoch 20/100\n",
      "4375/4375 [==============================] - 8s 2ms/step - loss: 0.2362 - accuracy: 0.9130\n",
      "Epoch 21/100\n",
      "4375/4375 [==============================] - 8s 2ms/step - loss: 0.2359 - accuracy: 0.9131\n",
      "Epoch 22/100\n",
      "4375/4375 [==============================] - 8s 2ms/step - loss: 0.2356 - accuracy: 0.9136\n",
      "Epoch 23/100\n",
      "4375/4375 [==============================] - 8s 2ms/step - loss: 0.2354 - accuracy: 0.9134\n",
      "Epoch 24/100\n",
      "4375/4375 [==============================] - 8s 2ms/step - loss: 0.2348 - accuracy: 0.9137\n",
      "Epoch 25/100\n",
      "4375/4375 [==============================] - 9s 2ms/step - loss: 0.2346 - accuracy: 0.9136\n",
      "Epoch 26/100\n",
      "4375/4375 [==============================] - 8s 2ms/step - loss: 0.2341 - accuracy: 0.9138\n",
      "Epoch 27/100\n",
      "4375/4375 [==============================] - 9s 2ms/step - loss: 0.2337 - accuracy: 0.9141\n",
      "Epoch 28/100\n",
      "4375/4375 [==============================] - 8s 2ms/step - loss: 0.2337 - accuracy: 0.9142\n",
      "Epoch 29/100\n",
      "4375/4375 [==============================] - 8s 2ms/step - loss: 0.2328 - accuracy: 0.9146\n",
      "Epoch 30/100\n",
      "4375/4375 [==============================] - 8s 2ms/step - loss: 0.2324 - accuracy: 0.9145\n",
      "Epoch 31/100\n",
      "4375/4375 [==============================] - 8s 2ms/step - loss: 0.2323 - accuracy: 0.9145\n",
      "Epoch 32/100\n",
      "4375/4375 [==============================] - 8s 2ms/step - loss: 0.2324 - accuracy: 0.9146\n",
      "Epoch 33/100\n",
      "4375/4375 [==============================] - 9s 2ms/step - loss: 0.2317 - accuracy: 0.9147\n",
      "Epoch 34/100\n",
      "4375/4375 [==============================] - 8s 2ms/step - loss: 0.2316 - accuracy: 0.9151\n",
      "Epoch 35/100\n",
      "4375/4375 [==============================] - 9s 2ms/step - loss: 0.2315 - accuracy: 0.9150\n",
      "Epoch 36/100\n",
      "4375/4375 [==============================] - 8s 2ms/step - loss: 0.2309 - accuracy: 0.9154\n",
      "Epoch 37/100\n",
      "4375/4375 [==============================] - 8s 2ms/step - loss: 0.2312 - accuracy: 0.9151\n",
      "Epoch 38/100\n",
      "4375/4375 [==============================] - 8s 2ms/step - loss: 0.2305 - accuracy: 0.9152\n",
      "Epoch 39/100\n",
      "4375/4375 [==============================] - 8s 2ms/step - loss: 0.2303 - accuracy: 0.9159\n",
      "Epoch 40/100\n",
      "4375/4375 [==============================] - 8s 2ms/step - loss: 0.2301 - accuracy: 0.9155\n",
      "Epoch 41/100\n",
      "4375/4375 [==============================] - 8s 2ms/step - loss: 0.2297 - accuracy: 0.9160\n",
      "Epoch 42/100\n",
      "4375/4375 [==============================] - 8s 2ms/step - loss: 0.2299 - accuracy: 0.9156\n",
      "Epoch 43/100\n",
      "4375/4375 [==============================] - 9s 2ms/step - loss: 0.2298 - accuracy: 0.9156\n",
      "Epoch 44/100\n",
      "4375/4375 [==============================] - 8s 2ms/step - loss: 0.2292 - accuracy: 0.9161\n",
      "Epoch 45/100\n",
      "4375/4375 [==============================] - 8s 2ms/step - loss: 0.2287 - accuracy: 0.9156\n",
      "Epoch 46/100\n",
      "4375/4375 [==============================] - 8s 2ms/step - loss: 0.2288 - accuracy: 0.9166\n",
      "Epoch 47/100\n",
      "4375/4375 [==============================] - 8s 2ms/step - loss: 0.2290 - accuracy: 0.9165\n",
      "Epoch 48/100\n",
      "4375/4375 [==============================] - 8s 2ms/step - loss: 0.2289 - accuracy: 0.9160\n",
      "Epoch 49/100\n",
      "4375/4375 [==============================] - 8s 2ms/step - loss: 0.2286 - accuracy: 0.9164\n",
      "Epoch 50/100\n",
      "4375/4375 [==============================] - 8s 2ms/step - loss: 0.2283 - accuracy: 0.9165\n",
      "Epoch 51/100\n",
      "4375/4375 [==============================] - 9s 2ms/step - loss: 0.2282 - accuracy: 0.9163\n",
      "Epoch 52/100\n",
      "4375/4375 [==============================] - 8s 2ms/step - loss: 0.2282 - accuracy: 0.9162\n",
      "Epoch 53/100\n",
      "4375/4375 [==============================] - 8s 2ms/step - loss: 0.2279 - accuracy: 0.9168\n",
      "Epoch 54/100\n",
      "4375/4375 [==============================] - 8s 2ms/step - loss: 0.2272 - accuracy: 0.9171\n",
      "Epoch 55/100\n",
      "4375/4375 [==============================] - 8s 2ms/step - loss: 0.2274 - accuracy: 0.9168\n",
      "Epoch 56/100\n",
      "4375/4375 [==============================] - 10s 2ms/step - loss: 0.2272 - accuracy: 0.9163\n",
      "Epoch 57/100\n",
      "4375/4375 [==============================] - 8s 2ms/step - loss: 0.2273 - accuracy: 0.9168\n",
      "Epoch 58/100\n",
      "4375/4375 [==============================] - 8s 2ms/step - loss: 0.2267 - accuracy: 0.9175\n",
      "Epoch 59/100\n",
      "4375/4375 [==============================] - 9s 2ms/step - loss: 0.2273 - accuracy: 0.9174\n",
      "Epoch 60/100\n",
      "4375/4375 [==============================] - 8s 2ms/step - loss: 0.2274 - accuracy: 0.9169\n",
      "Epoch 61/100\n",
      "4375/4375 [==============================] - 8s 2ms/step - loss: 0.2269 - accuracy: 0.9173\n",
      "Epoch 62/100\n",
      "4375/4375 [==============================] - 8s 2ms/step - loss: 0.2264 - accuracy: 0.9167\n",
      "Epoch 63/100\n",
      "4375/4375 [==============================] - 8s 2ms/step - loss: 0.2264 - accuracy: 0.9172\n",
      "Epoch 64/100\n",
      "4375/4375 [==============================] - 8s 2ms/step - loss: 0.2263 - accuracy: 0.9173\n",
      "Epoch 65/100\n",
      "4375/4375 [==============================] - 8s 2ms/step - loss: 0.2261 - accuracy: 0.9178\n",
      "Epoch 66/100\n",
      "4375/4375 [==============================] - 8s 2ms/step - loss: 0.2263 - accuracy: 0.9174\n",
      "Epoch 67/100\n",
      "4375/4375 [==============================] - 9s 2ms/step - loss: 0.2260 - accuracy: 0.9175\n",
      "Epoch 68/100\n",
      "4375/4375 [==============================] - 8s 2ms/step - loss: 0.2261 - accuracy: 0.9173\n",
      "Epoch 69/100\n",
      "4375/4375 [==============================] - 8s 2ms/step - loss: 0.2254 - accuracy: 0.9178\n",
      "Epoch 70/100\n",
      "4375/4375 [==============================] - 8s 2ms/step - loss: 0.2257 - accuracy: 0.9173\n",
      "Epoch 71/100\n",
      "4375/4375 [==============================] - 8s 2ms/step - loss: 0.2258 - accuracy: 0.9175\n",
      "Epoch 72/100\n",
      "4375/4375 [==============================] - 8s 2ms/step - loss: 0.2256 - accuracy: 0.9176\n",
      "Epoch 73/100\n",
      "4375/4375 [==============================] - 8s 2ms/step - loss: 0.2257 - accuracy: 0.9178\n",
      "Epoch 74/100\n",
      "4375/4375 [==============================] - 8s 2ms/step - loss: 0.2247 - accuracy: 0.9175\n",
      "Epoch 75/100\n",
      "4375/4375 [==============================] - 9s 2ms/step - loss: 0.2257 - accuracy: 0.9177\n",
      "Epoch 76/100\n",
      "4375/4375 [==============================] - 12s 3ms/step - loss: 0.2252 - accuracy: 0.9180\n",
      "Epoch 77/100\n",
      "4375/4375 [==============================] - 9s 2ms/step - loss: 0.2247 - accuracy: 0.9180\n",
      "Epoch 78/100\n",
      "4375/4375 [==============================] - 13s 3ms/step - loss: 0.2248 - accuracy: 0.9184\n",
      "Epoch 79/100\n",
      "4375/4375 [==============================] - 14s 3ms/step - loss: 0.2250 - accuracy: 0.9177\n",
      "Epoch 80/100\n",
      "4375/4375 [==============================] - 15s 3ms/step - loss: 0.2248 - accuracy: 0.9181\n",
      "Epoch 81/100\n",
      "4375/4375 [==============================] - 10s 2ms/step - loss: 0.2247 - accuracy: 0.9179\n",
      "Epoch 82/100\n",
      "4375/4375 [==============================] - 8s 2ms/step - loss: 0.2251 - accuracy: 0.9182\n",
      "Epoch 83/100\n",
      "4375/4375 [==============================] - 10s 2ms/step - loss: 0.2244 - accuracy: 0.9180\n",
      "Epoch 84/100\n",
      "4375/4375 [==============================] - 12s 3ms/step - loss: 0.2246 - accuracy: 0.9180\n",
      "Epoch 85/100\n",
      "4375/4375 [==============================] - 8s 2ms/step - loss: 0.2241 - accuracy: 0.9186\n",
      "Epoch 86/100\n",
      "4375/4375 [==============================] - 9s 2ms/step - loss: 0.2237 - accuracy: 0.9181\n",
      "Epoch 87/100\n",
      "4375/4375 [==============================] - 8s 2ms/step - loss: 0.2241 - accuracy: 0.9184\n",
      "Epoch 88/100\n",
      "4375/4375 [==============================] - 8s 2ms/step - loss: 0.2236 - accuracy: 0.9186\n",
      "Epoch 89/100\n",
      "4375/4375 [==============================] - 8s 2ms/step - loss: 0.2241 - accuracy: 0.9184\n",
      "Epoch 90/100\n",
      "4375/4375 [==============================] - 8s 2ms/step - loss: 0.2236 - accuracy: 0.9188\n",
      "Epoch 91/100\n",
      "4375/4375 [==============================] - 8s 2ms/step - loss: 0.2234 - accuracy: 0.9187\n",
      "Epoch 92/100\n",
      "4375/4375 [==============================] - 8s 2ms/step - loss: 0.2238 - accuracy: 0.9190\n",
      "Epoch 93/100\n",
      "4375/4375 [==============================] - 8s 2ms/step - loss: 0.2238 - accuracy: 0.9188\n",
      "Epoch 94/100\n",
      "4375/4375 [==============================] - 9s 2ms/step - loss: 0.2233 - accuracy: 0.9189\n",
      "Epoch 95/100\n",
      "4375/4375 [==============================] - 8s 2ms/step - loss: 0.2233 - accuracy: 0.9188\n",
      "Epoch 96/100\n",
      "4375/4375 [==============================] - 9s 2ms/step - loss: 0.2237 - accuracy: 0.9188\n",
      "Epoch 97/100\n",
      "4375/4375 [==============================] - 8s 2ms/step - loss: 0.2232 - accuracy: 0.9190\n",
      "Epoch 98/100\n",
      "4375/4375 [==============================] - 8s 2ms/step - loss: 0.2238 - accuracy: 0.9186\n",
      "Epoch 99/100\n",
      "4375/4375 [==============================] - 8s 2ms/step - loss: 0.2235 - accuracy: 0.9188\n",
      "Epoch 100/100\n",
      "4375/4375 [==============================] - 8s 2ms/step - loss: 0.2236 - accuracy: 0.9191\n"
     ]
    }
   ],
   "source": [
    "from keras.callbacks import EarlyStopping\n",
    "early_stop = EarlyStopping(monitor='accuracy', patience=10, mode='max', restore_best_weights=True)\n",
    "plot = model.fit(X_train, y_train, batch_size=32, epochs=100, callbacks=[early_stop])"
   ]
  },
  {
   "cell_type": "code",
   "execution_count": 17,
   "metadata": {},
   "outputs": [
    {
     "data": {
      "image/png": "[encoded data removed]",
      "text/plain": [
       "<Figure size 1000x400 with 1 Axes>"
      ]
     },
     "metadata": {},
     "output_type": "display_data"
    }
   ],
   "source": [
    "plt.figure(figsize = (10,4))\n",
    "plt.title(\"Accuracy Graph\", fontsize = 14, fontweight = \"bold\")\n",
    "plt.xlabel(\"Epoch\")\n",
    "plt.ylabel(\"Accuracy\")\n",
    "plt.xticks(range(0,210, 10))\n",
    "plt.plot(plot.epoch, plot.history[\"accuracy\"])\n",
    "plt.show()"
   ]
  },
  {
   "cell_type": "code",
   "execution_count": 18,
   "metadata": {},
   "outputs": [
    {
     "name": "stdout",
     "output_type": "stream",
     "text": [
      "1875/1875 [==============================] - 3s 1ms/step\n"
     ]
    }
   ],
   "source": [
    "y_pred = model.predict(X_test)"
   ]
  }
 ],
 "metadata": {
  "kernelspec": {
   "display_name": "Data",
   "language": "python",
   "name": "python3"
  },
  "language_info": {
   "codemirror_mode": {
    "name": "ipython",
    "version": 3
   },
   "file_extension": ".py",
   "mimetype": "text/x-python",
   "name": "python",
   "nbconvert_exporter": "python",
   "pygments_lexer": "ipython3",
   "version": "3.9.16"
  },
  "vscode": {
   "interpreter": {
    "hash": "28474f9e009aa2e3aa9f2493c167afc3de9b92dbfd11a4f71b12f008bcf95d53"
   }
  }
 },
 "nbformat": 4,
 "nbformat_minor": 2
}
